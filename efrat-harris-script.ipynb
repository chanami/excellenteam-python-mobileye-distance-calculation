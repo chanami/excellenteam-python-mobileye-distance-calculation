{
 "cells": [
  {
   "cell_type": "code",
   "execution_count": 1,
   "metadata": {},
   "outputs": [
    {
     "name": "stdout",
     "output_type": "stream",
     "text": [
      "Populating the interactive namespace from numpy and matplotlib\n"
     ]
    }
   ],
   "source": [
    "from __future__ import print_function, division\n",
    "import pandas as pd\n",
    "from meye import MEImage\n",
    "from scipy import signal as sg\n",
    "from scipy.ndimage.filters import maximum_filter\n",
    "import matplotlib.patches as patches\n",
    "%pylab inline\n",
    "plt.rcParams['image.cmap'] = 'gray'"
   ]
  },
  {
   "cell_type": "code",
   "execution_count": 2,
   "metadata": {},
   "outputs": [],
   "source": [
    "df = pd.read_pickle(\"store.pickle\")\n",
    "# df.head()"
   ]
  },
  {
   "cell_type": "markdown",
   "metadata": {},
   "source": [
    "# step 1"
   ]
  },
  {
   "cell_type": "code",
   "execution_count": 3,
   "metadata": {},
   "outputs": [],
   "source": [
    "sobel_kernel_x = np.array([[-1, 0, 1], [-2, 0, 2], [-1, 0, 1]]) / 8\n",
    "sobel_kernel_y = np.array([[1, 2, 1], [0, 0, 0], [-1, -2, -1]]) / 8"
   ]
  },
  {
   "cell_type": "code",
   "execution_count": 7,
   "metadata": {},
   "outputs": [],
   "source": [
    "line_zero = df.iloc[0]\n",
    "curr_rect = line_zero.currRect\n",
    "prev_rect = line_zero.prevRect\n",
    "# curr_rect"
   ]
  },
  {
   "cell_type": "code",
   "execution_count": 8,
   "metadata": {},
   "outputs": [],
   "source": [
    "cimage = MEImage.from_file(line_zero.currImage)\n",
    "pimage = MEImage.from_file(line_zero.prevImage)"
   ]
  },
  {
   "cell_type": "code",
   "execution_count": 109,
   "metadata": {},
   "outputs": [],
   "source": [
    "# plt.imshow(pimage.im,cmap='gray',origin='lower')\n",
    "# plt.imshow(cimage.im,cmap='gray')"
   ]
  },
  {
   "cell_type": "code",
   "execution_count": 9,
   "metadata": {},
   "outputs": [],
   "source": [
    "prev_rect_mat = pimage.im[prev_rect[2]:prev_rect[3],prev_rect[0]:prev_rect[1]]\n",
    "curr_rect_mat = cimage.im[curr_rect[2]:curr_rect[3],curr_rect[0]:curr_rect[1]]"
   ]
  },
  {
   "cell_type": "code",
   "execution_count": 217,
   "metadata": {},
   "outputs": [],
   "source": [
    "# plt.imshow(prev_rect_mat,cmap='gray',origin='lower')\n",
    "# plt.imshow(curr_rect_mat,cmap='gray',origin='lower')"
   ]
  },
  {
   "cell_type": "code",
   "execution_count": 11,
   "metadata": {},
   "outputs": [],
   "source": [
    "prev_dx = sg.convolve2d(prev_rect_mat, sobel_kernel_x, \"same\")\n",
    "prev_dy = sg.convolve2d(prev_rect_mat, sobel_kernel_y, \"same\") "
   ]
  },
  {
   "cell_type": "code",
   "execution_count": 12,
   "metadata": {},
   "outputs": [],
   "source": [
    "# plt.imshow(prev_dx,cmap='gray',origin='lower')\n",
    "# plt.imshow(prev_dy,cmap='gray',origin='lower')"
   ]
  },
  {
   "cell_type": "code",
   "execution_count": 13,
   "metadata": {},
   "outputs": [],
   "source": [
    "# max_prev_dx = maximum_filter(prev_dx, 5)\n",
    "# max_prev_dy = maximum_filter(prev_dy, 5)"
   ]
  },
  {
   "cell_type": "code",
   "execution_count": 14,
   "metadata": {},
   "outputs": [],
   "source": [
    "# plt.imshow(max_prev_dx,cmap='gray',origin='lower')\n",
    "# plt.imshow(max_prev_dy,cmap='gray',origin='lower')"
   ]
  },
  {
   "cell_type": "markdown",
   "metadata": {},
   "source": [
    "# step 2"
   ]
  },
  {
   "cell_type": "code",
   "execution_count": 15,
   "metadata": {},
   "outputs": [],
   "source": [
    "prev_mat_xx = prev_dx * prev_dx\n",
    "prev_mat_yy = prev_dy * prev_dy\n",
    "prev_mat_xy = prev_dx * prev_dx"
   ]
  },
  {
   "cell_type": "markdown",
   "metadata": {},
   "source": [
    "# step 3 4 5"
   ]
  },
  {
   "cell_type": "code",
   "execution_count": 161,
   "metadata": {},
   "outputs": [],
   "source": [
    "patch_filter = np.ones((7,7)) / 49\n",
    "# patch_filter"
   ]
  },
  {
   "cell_type": "code",
   "execution_count": 169,
   "metadata": {},
   "outputs": [
    {
     "data": {
      "text/plain": [
       "(76, 68)"
      ]
     },
     "execution_count": 169,
     "metadata": {},
     "output_type": "execute_result"
    }
   ],
   "source": [
    "sxx = sg.convolve2d(prev_mat_xx, patch_filter, \"same\")\n",
    "sxy = sg.convolve2d(prev_mat_xy, patch_filter, \"same\")\n",
    "syy = sg.convolve2d(prev_mat_yy, patch_filter, \"same\")\n",
    "syy.shape"
   ]
  },
  {
   "cell_type": "code",
   "execution_count": 21,
   "metadata": {},
   "outputs": [],
   "source": [
    "# for x in range(prev_rect_mat.shape[0]):\n",
    "#     for y in range(prev_rect_mat.shape[1]):\n",
    "#         sxx[x][y] = prev_mat_xx[x-2:x+2,y-2:y+2].sum()\n",
    "#         sxy[x][y] = prev_mat_xy[x-2:x+2,y-2:y+2].sum()\n",
    "#         syy[x][y] = prev_mat_yy[x-2:x+2,y-2:y+2].sum()"
   ]
  },
  {
   "cell_type": "code",
   "execution_count": 170,
   "metadata": {},
   "outputs": [],
   "source": [
    "R = np.zeros((prev_mat_xx.shape[0],prev_mat_xx.shape[1]))\n",
    "k = 0.05"
   ]
  },
  {
   "cell_type": "code",
   "execution_count": 164,
   "metadata": {},
   "outputs": [],
   "source": [
    "# for x in range(3,prev_rect_mat.shape[0]-3):\n",
    "#     for y in range(3,prev_rect_mat.shape[1]-3):\n",
    "# #         print(f\"({x},{y})\")\n",
    "#         fsxx = (prev_mat_xx[x-3:x+3,y-3:y+3]*(1/49)).sum()\n",
    "#         fsxy = (prev_mat_xy[x-3:x+3,y-3:y+3]*(1/49)).sum()\n",
    "#         fsyy = (prev_mat_yy[x-3:x+3,y-3:y+3]*(1/49)).sum()\n",
    "        \n",
    "#         H = np.array([[fsxx, fsxy], [fsxy, fsyy]])\n",
    "#         R[x-3][y-3] = np.linalg.det(H) - k*((np.trace(H))**2)\n",
    "#         R[x-2][y-2] = 2*(np.linalg.det(H)/(np.trace(H) + 0.01))"
   ]
  },
  {
   "cell_type": "code",
   "execution_count": 171,
   "metadata": {},
   "outputs": [],
   "source": [
    "for x in range(prev_rect_mat.shape[0]):\n",
    "    for y in range(prev_rect_mat.shape[1]):\n",
    "        H = np.array([[sxx[x][y], sxy[x][y]], [sxy[x][y], syy[x][y]]])\n",
    "        R[x][y] = np.linalg.det(H) - k*((np.trace(H))**2)\n",
    "#         R[x][y] = 2*np.linalg.det(H)/(np.trace(H) + 0.01)"
   ]
  },
  {
   "cell_type": "code",
   "execution_count": 172,
   "metadata": {},
   "outputs": [
    {
     "data": {
      "text/plain": [
       "<matplotlib.image.AxesImage at 0x18b3f630>"
      ]
     },
     "execution_count": 172,
     "metadata": {},
     "output_type": "execute_result"
    },
    {
     "data": {
      "image/png": "[encoded data removed]",
      "text/plain": [
       "<Figure size 432x288 with 1 Axes>"
      ]
     },
     "metadata": {
      "needs_background": "light"
     },
     "output_type": "display_data"
    }
   ],
   "source": [
    "plt.imshow(R,cmap='gray',origin='lower')"
   ]
  },
  {
   "cell_type": "code",
   "execution_count": 173,
   "metadata": {},
   "outputs": [
    {
     "data": {
      "text/plain": [
       "<matplotlib.image.AxesImage at 0x19b4e070>"
      ]
     },
     "execution_count": 173,
     "metadata": {},
     "output_type": "execute_result"
    },
    {
     "data": {
      "image/png": "[encoded data removed]",
      "text/plain": [
       "<Figure size 432x288 with 1 Axes>"
      ]
     },
     "metadata": {
      "needs_background": "light"
     },
     "output_type": "display_data"
    }
   ],
   "source": [
    "plt.imshow(R[15:70,18:50],cmap='gray',origin='lower')"
   ]
  },
  {
   "cell_type": "code",
   "execution_count": 212,
   "metadata": {},
   "outputs": [],
   "source": [
    "max_R = maximum_filter(R, 9)\n",
    "threshold = abs(max_R)"
   ]
  },
  {
   "cell_type": "code",
   "execution_count": 213,
   "metadata": {},
   "outputs": [
    {
     "data": {
      "text/plain": [
       "<matplotlib.image.AxesImage at 0x184701f0>"
      ]
     },
     "execution_count": 213,
     "metadata": {},
     "output_type": "execute_result"
    },
    {
     "data": {
      "image/png": "[encoded data removed]",
      "text/plain": [
       "<Figure size 432x288 with 1 Axes>"
      ]
     },
     "metadata": {
      "needs_background": "light"
     },
     "output_type": "display_data"
    }
   ],
   "source": [
    "plt.imshow(max_R,cmap='gray',origin='lower')"
   ]
  },
  {
   "cell_type": "code",
   "execution_count": 220,
   "metadata": {},
   "outputs": [
    {
     "data": {
      "text/plain": [
       "<matplotlib.image.AxesImage at 0x13d0c670>"
      ]
     },
     "execution_count": 220,
     "metadata": {},
     "output_type": "execute_result"
    },
    {
     "data": {
      "image/png": "[encoded data removed]",
      "text/plain": [
       "<Figure size 432x288 with 1 Axes>"
      ]
     },
     "metadata": {
      "needs_background": "light"
     },
     "output_type": "display_data"
    }
   ],
   "source": [
    "mask = np.zeros((prev_mat_xx.shape[0],prev_mat_xx.shape[1]))\n",
    "# mask[(R - max_R)**2 > 1 ] = 1\n",
    "mask[(R == max_R)] = 1\n",
    "# mask[abs(R - max_R) > 1 ] = 1\n",
    "plt.imshow(mask,cmap='gray',origin='lower')"
   ]
  },
  {
   "cell_type": "code",
   "execution_count": 215,
   "metadata": {},
   "outputs": [
    {
     "data": {
      "image/png": "[encoded data removed]",
      "text/plain": [
       "<Figure size 432x288 with 1 Axes>"
      ]
     },
     "metadata": {
      "needs_background": "light"
     },
     "output_type": "display_data"
    }
   ],
   "source": [
    "# plt.imshow(prev_rect_mat,cmap='gray',origin='lower')\n",
    "for x in range(prev_rect_mat.shape[0]):\n",
    "    for y in range(prev_rect_mat.shape[1]):\n",
    "        if mask[x][y]:\n",
    "            plt.scatter(y,x, c='r', s=2)\n",
    "#             plt.scatter(y,x, c='r', s=(R[x-2][y-2]))"
   ]
  },
  {
   "cell_type": "code",
   "execution_count": 216,
   "metadata": {},
   "outputs": [
    {
     "data": {
      "image/png": "[encoded data removed]",
      "text/plain": [
       "<Figure size 432x288 with 1 Axes>"
      ]
     },
     "metadata": {
      "needs_background": "light"
     },
     "output_type": "display_data"
    }
   ],
   "source": [
    "plt.imshow(prev_rect_mat,cmap='gray',origin='lower')\n",
    "for x in range(prev_rect_mat.shape[0]):\n",
    "    for y in range(prev_rect_mat.shape[1]):\n",
    "        if mask[x][y]:\n",
    "#             plt.scatter(y,x, c='r', s=(R[x-2][y-2]/20))\n",
    "            plt.scatter(y,x, c='r', s=2 )"
   ]
  },
  {
   "cell_type": "code",
   "execution_count": null,
   "metadata": {},
   "outputs": [],
   "source": []
  },
  {
   "cell_type": "code",
   "execution_count": null,
   "metadata": {},
   "outputs": [],
   "source": []
  }
 ],
 "metadata": {
  "kernelspec": {
   "display_name": "Python 3",
   "language": "python",
   "name": "python3"
  },
  "language_info": {
   "codemirror_mode": {
    "name": "ipython",
    "version": 3
   },
   "file_extension": ".py",
   "mimetype": "text/x-python",
   "name": "python",
   "nbconvert_exporter": "python",
   "pygments_lexer": "ipython3",
   "version": "3.7.0"
  }
 },
 "nbformat": 4,
 "nbformat_minor": 2
}
