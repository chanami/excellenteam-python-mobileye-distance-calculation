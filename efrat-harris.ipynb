{
 "cells": [
  {
   "cell_type": "code",
   "execution_count": 37,
   "metadata": {},
   "outputs": [
    {
     "name": "stdout",
     "output_type": "stream",
     "text": [
      "Populating the interactive namespace from numpy and matplotlib\n"
     ]
    }
   ],
   "source": [
    "from __future__ import print_function, division\n",
    "import pandas as pd\n",
    "from meye import MEImage\n",
    "from scipy import signal as sg\n",
    "from scipy.ndimage.filters import maximum_filter\n",
    "%pylab inline\n",
    "plt.rcParams['image.cmap'] = 'gray'"
   ]
  },
  {
   "cell_type": "code",
   "execution_count": 97,
   "metadata": {},
   "outputs": [],
   "source": [
    "df = pd.read_pickle(\"store.pickle\")\n",
    "# df.head()"
   ]
  },
  {
   "cell_type": "markdown",
   "metadata": {},
   "source": [
    "# step 1"
   ]
  },
  {
   "cell_type": "code",
   "execution_count": 81,
   "metadata": {},
   "outputs": [],
   "source": [
    "sobel_kernel_x = np.array([[-1, 0, 1], [-2, 0, 2], [-1, 0, 1]]) / 8\n",
    "sobel_kernel_y = np.array([[1, 2, 1], [0, 0, 0], [-1, -2, -1]]) / 8"
   ]
  },
  {
   "cell_type": "code",
   "execution_count": 110,
   "metadata": {},
   "outputs": [],
   "source": [
    "line_zero = df.iloc[0]\n",
    "curr_rect = one_ex.currRect\n",
    "prev_rect = one_ex.prevRect\n",
    "# curr_rect"
   ]
  },
  {
   "cell_type": "code",
   "execution_count": 84,
   "metadata": {},
   "outputs": [],
   "source": [
    "cimage = MEImage.from_file(one_ex.currImage)\n",
    "pimage = MEImage.from_file(one_ex.prevImage)"
   ]
  },
  {
   "cell_type": "code",
   "execution_count": 109,
   "metadata": {},
   "outputs": [],
   "source": [
    "# plt.imshow(pimage.im,cmap='gray',origin='lower')\n",
    "# plt.imshow(cimage.im,cmap='gray')"
   ]
  },
  {
   "cell_type": "code",
   "execution_count": 88,
   "metadata": {},
   "outputs": [],
   "source": [
    "prev_rect_mat = pimage.im[prev_rect[2]:prev_rect[3],prev_rect[0]:prev_rect[1]]\n",
    "curr_rect_mat = cimage.im[curr_rect[2]:curr_rect[3],curr_rect[0]:curr_rect[1]]"
   ]
  },
  {
   "cell_type": "code",
   "execution_count": 111,
   "metadata": {},
   "outputs": [],
   "source": [
    "# plt.imshow(prev_rect_mat,cmap='gray',origin='lower')\n",
    "# plt.imshow(curr_rect_mat,cmap='gray',origin='lower')"
   ]
  },
  {
   "cell_type": "code",
   "execution_count": 90,
   "metadata": {},
   "outputs": [],
   "source": [
    "prev_dx = sg.convolve2d(prev_rect_mat, sobel_kernel_x, \"same\")\n",
    "prev_dy = sg.convolve2d(prev_rect_mat, sobel_kernel_y, \"same\") "
   ]
  },
  {
   "cell_type": "code",
   "execution_count": 91,
   "metadata": {},
   "outputs": [],
   "source": [
    "# plt.imshow(prev_dx,cmap='gray',origin='lower')\n",
    "# plt.imshow(prev_dy,cmap='gray',origin='lower')"
   ]
  },
  {
   "cell_type": "code",
   "execution_count": 94,
   "metadata": {},
   "outputs": [],
   "source": [
    "max_prev_dx = maximum_filter(prev_dx, 5)\n",
    "max_prev_dy = maximum_filter(prev_dy, 5)"
   ]
  },
  {
   "cell_type": "code",
   "execution_count": 96,
   "metadata": {},
   "outputs": [],
   "source": [
    "# plt.imshow(max_prev_dx,cmap='gray',origin='lower')\n",
    "# plt.imshow(max_prev_dy,cmap='gray',origin='lower')"
   ]
  },
  {
   "cell_type": "markdown",
   "metadata": {},
   "source": [
    "# step 2"
   ]
  },
  {
   "cell_type": "code",
   "execution_count": 100,
   "metadata": {},
   "outputs": [],
   "source": [
    "prev_mat_xx = prev_dx ** 2\n",
    "prev_mat_yy = prev_dy * prev_dy\n",
    "prev_mat_xy = prev_dx ** 2"
   ]
  },
  {
   "cell_type": "markdown",
   "metadata": {},
   "source": [
    "# step 3"
   ]
  },
  {
   "cell_type": "code",
   "execution_count": 151,
   "metadata": {},
   "outputs": [],
   "source": [
    "patch_filter = np.ones((5,5)) / 9\n",
    "# patch_filter"
   ]
  },
  {
   "cell_type": "code",
   "execution_count": 152,
   "metadata": {},
   "outputs": [],
   "source": [
    "sxx = sg.convolve2d(prev_mat_xx, patch_filter, \"same\")\n",
    "sxy = sg.convolve2d(prev_mat_xy, patch_filter, \"same\")\n",
    "syy = sg.convolve2d(prev_mat_yy, patch_filter, \"same\")"
   ]
  },
  {
   "cell_type": "code",
   "execution_count": 156,
   "metadata": {},
   "outputs": [],
   "source": [
    "# plt.imshow(sxx,cmap='gray',origin='lower')\n",
    "# plt.imshow(sxy,cmap='gray',origin='lower')\n",
    "# plt.imshow(syy,cmap='gray',origin='lower')"
   ]
  },
  {
   "cell_type": "markdown",
   "metadata": {},
   "source": [
    "# step 4 + 5"
   ]
  },
  {
   "cell_type": "code",
   "execution_count": 170,
   "metadata": {},
   "outputs": [],
   "source": [
    "R = zeros(prev_mat_xx.shape)\n",
    "k = 0.05"
   ]
  },
  {
   "cell_type": "code",
   "execution_count": 171,
   "metadata": {},
   "outputs": [
    {
     "data": {
      "text/plain": [
       "array([[0., 0., 0., ..., 0., 0., 0.],\n",
       "       [0., 0., 0., ..., 0., 0., 0.],\n",
       "       [0., 0., 0., ..., 0., 0., 0.],\n",
       "       ...,\n",
       "       [0., 0., 0., ..., 0., 0., 0.],\n",
       "       [0., 0., 0., ..., 0., 0., 0.],\n",
       "       [0., 0., 0., ..., 0., 0., 0.]])"
      ]
     },
     "execution_count": 171,
     "metadata": {},
     "output_type": "execute_result"
    }
   ],
   "source": [
    "R"
   ]
  },
  {
   "cell_type": "code",
   "execution_count": 174,
   "metadata": {},
   "outputs": [],
   "source": [
    "for x in range(prev_rect_mat.shape[0]):\n",
    "    for y in range(prev_rect_mat.shape[1]):\n",
    "        H = np.array([[sxx[x][y], sxy[x][y]], [sxy[x][y], syy[x][y]]])\n",
    "#         R[x][y] = ((H[0][0] * H[1][1]) - H[0][1]*H[0][1]) - np.trace\n",
    "        R[x][y] = np.linalg.det(H) - k*(np.trace(H))**2"
   ]
  },
  {
   "cell_type": "code",
   "execution_count": 175,
   "metadata": {},
   "outputs": [
    {
     "data": {
      "text/plain": [
       "array([[   83300.13342978,   117874.57631896,   152712.96506016, ...,\n",
       "           85690.10375916,    66432.00677023,    46704.11224139],\n",
       "       [  123028.69661398,   186860.71351997,   262807.85086263, ...,\n",
       "          184945.4071928 ,   147514.83202884,   105718.37829801],\n",
       "       [  288031.26845281,   438264.11973802,   594756.36267542, ...,\n",
       "          573958.34161603,   484865.42379135,   347976.56925094],\n",
       "       ...,\n",
       "       [ 4893335.00987655,  7013105.92746672,  9081060.26632367, ...,\n",
       "        10878397.36458092,  8434651.18836565,  5924907.26215941],\n",
       "       [ 3840308.86303771,  5457513.7203963 ,  7022845.32725454, ...,\n",
       "         8420141.14400738,  6570223.39128569,  4654271.30747191],\n",
       "       [ 2735898.16155418,  3852001.97283408,  4916189.13953993, ...,\n",
       "         5893758.56201233,  4637638.75576232,  3315502.65331729]])"
      ]
     },
     "execution_count": 175,
     "metadata": {},
     "output_type": "execute_result"
    }
   ],
   "source": [
    "R"
   ]
  },
  {
   "cell_type": "code",
   "execution_count": 177,
   "metadata": {},
   "outputs": [
    {
     "data": {
      "text/plain": [
       "<matplotlib.image.AxesImage at 0x162926d0>"
      ]
     },
     "execution_count": 177,
     "metadata": {},
     "output_type": "execute_result"
    },
    {
     "data": {
      "image/png": "[encoded data removed]",
      "text/plain": [
       "<Figure size 432x288 with 1 Axes>"
      ]
     },
     "metadata": {
      "needs_background": "light"
     },
     "output_type": "display_data"
    }
   ],
   "source": [
    "plt.imshow(R,cmap='gray',origin='lower')"
   ]
  },
  {
   "cell_type": "code",
   "execution_count": 178,
   "metadata": {},
   "outputs": [
    {
     "data": {
      "text/plain": [
       "<matplotlib.image.AxesImage at 0x162d02b0>"
      ]
     },
     "execution_count": 178,
     "metadata": {},
     "output_type": "execute_result"
    },
    {
     "data": {
      "image/png": "[encoded data removed]",
      "text/plain": [
       "<Figure size 432x288 with 1 Axes>"
      ]
     },
     "metadata": {
      "needs_background": "light"
     },
     "output_type": "display_data"
    }
   ],
   "source": [
    "mmm = maximum_filter(R, 5)\n",
    "plt.imshow(mmm,cmap='gray',origin='lower')"
   ]
  },
  {
   "cell_type": "code",
   "execution_count": null,
   "metadata": {},
   "outputs": [],
   "source": []
  }
 ],
 "metadata": {
  "kernelspec": {
   "display_name": "Python 3",
   "language": "python",
   "name": "python3"
  },
  "language_info": {
   "codemirror_mode": {
    "name": "ipython",
    "version": 3
   },
   "file_extension": ".py",
   "mimetype": "text/x-python",
   "name": "python",
   "nbconvert_exporter": "python",
   "pygments_lexer": "ipython3",
   "version": "3.7.0"
  }
 },
 "nbformat": 4,
 "nbformat_minor": 2
}
