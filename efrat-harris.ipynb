{
 "cells": [
  {
   "cell_type": "code",
   "execution_count": 320,
   "metadata": {},
   "outputs": [
    {
     "name": "stdout",
     "output_type": "stream",
     "text": [
      "Populating the interactive namespace from numpy and matplotlib\n"
     ]
    }
   ],
   "source": [
    "from __future__ import print_function, division\n",
    "import pandas as pd\n",
    "from meye import MEImage\n",
    "from scipy import signal as sg\n",
    "from scipy.ndimage.filters import maximum_filter\n",
    "import matplotlib.patches as patches\n",
    "%pylab inline\n",
    "plt.rcParams['image.cmap'] = 'gray'"
   ]
  },
  {
   "cell_type": "code",
   "execution_count": 97,
   "metadata": {},
   "outputs": [],
   "source": [
    "df = pd.read_pickle(\"store.pickle\")\n",
    "# df.head()"
   ]
  },
  {
   "cell_type": "markdown",
   "metadata": {},
   "source": [
    "# step 1"
   ]
  },
  {
   "cell_type": "code",
   "execution_count": 81,
   "metadata": {},
   "outputs": [],
   "source": [
    "sobel_kernel_x = np.array([[-1, 0, 1], [-2, 0, 2], [-1, 0, 1]]) / 8\n",
    "sobel_kernel_y = np.array([[1, 2, 1], [0, 0, 0], [-1, -2, -1]]) / 8"
   ]
  },
  {
   "cell_type": "code",
   "execution_count": 110,
   "metadata": {},
   "outputs": [],
   "source": [
    "line_zero = df.iloc[0]\n",
    "curr_rect = one_ex.currRect\n",
    "prev_rect = one_ex.prevRect\n",
    "# curr_rect"
   ]
  },
  {
   "cell_type": "code",
   "execution_count": 84,
   "metadata": {},
   "outputs": [],
   "source": [
    "cimage = MEImage.from_file(one_ex.currImage)\n",
    "pimage = MEImage.from_file(one_ex.prevImage)"
   ]
  },
  {
   "cell_type": "code",
   "execution_count": 109,
   "metadata": {},
   "outputs": [],
   "source": [
    "# plt.imshow(pimage.im,cmap='gray',origin='lower')\n",
    "# plt.imshow(cimage.im,cmap='gray')"
   ]
  },
  {
   "cell_type": "code",
   "execution_count": 88,
   "metadata": {},
   "outputs": [],
   "source": [
    "prev_rect_mat = pimage.im[prev_rect[2]:prev_rect[3],prev_rect[0]:prev_rect[1]]\n",
    "curr_rect_mat = cimage.im[curr_rect[2]:curr_rect[3],curr_rect[0]:curr_rect[1]]"
   ]
  },
  {
   "cell_type": "code",
   "execution_count": 306,
   "metadata": {},
   "outputs": [
    {
     "data": {
      "text/plain": [
       "<matplotlib.image.AxesImage at 0x1cad71d0>"
      ]
     },
     "execution_count": 306,
     "metadata": {},
     "output_type": "execute_result"
    },
    {
     "data": {
      "image/png": "[encoded data removed]",
      "text/plain": [
       "<Figure size 432x288 with 1 Axes>"
      ]
     },
     "metadata": {
      "needs_background": "light"
     },
     "output_type": "display_data"
    }
   ],
   "source": [
    "# plt.imshow(prev_rect_mat,cmap='gray',origin='lower')\n",
    "plt.imshow(curr_rect_mat,cmap='gray',origin='lower')"
   ]
  },
  {
   "cell_type": "code",
   "execution_count": 90,
   "metadata": {},
   "outputs": [],
   "source": [
    "prev_dx = sg.convolve2d(prev_rect_mat, sobel_kernel_x, \"same\")\n",
    "prev_dy = sg.convolve2d(prev_rect_mat, sobel_kernel_y, \"same\") "
   ]
  },
  {
   "cell_type": "code",
   "execution_count": 91,
   "metadata": {},
   "outputs": [],
   "source": [
    "# plt.imshow(prev_dx,cmap='gray',origin='lower')\n",
    "# plt.imshow(prev_dy,cmap='gray',origin='lower')"
   ]
  },
  {
   "cell_type": "code",
   "execution_count": 94,
   "metadata": {},
   "outputs": [],
   "source": [
    "max_prev_dx = maximum_filter(prev_dx, 5)\n",
    "max_prev_dy = maximum_filter(prev_dy, 5)"
   ]
  },
  {
   "cell_type": "code",
   "execution_count": 96,
   "metadata": {},
   "outputs": [],
   "source": [
    "# plt.imshow(max_prev_dx,cmap='gray',origin='lower')\n",
    "# plt.imshow(max_prev_dy,cmap='gray',origin='lower')"
   ]
  },
  {
   "cell_type": "markdown",
   "metadata": {},
   "source": [
    "# step 2"
   ]
  },
  {
   "cell_type": "code",
   "execution_count": 100,
   "metadata": {},
   "outputs": [],
   "source": [
    "prev_mat_xx = prev_dx ** 2\n",
    "prev_mat_yy = prev_dy * prev_dy\n",
    "prev_mat_xy = prev_dx ** 2"
   ]
  },
  {
   "cell_type": "markdown",
   "metadata": {},
   "source": [
    "# step 3"
   ]
  },
  {
   "cell_type": "code",
   "execution_count": 151,
   "metadata": {},
   "outputs": [],
   "source": [
    "patch_filter = np.ones((5,5)) / 9\n",
    "# patch_filter"
   ]
  },
  {
   "cell_type": "code",
   "execution_count": 197,
   "metadata": {},
   "outputs": [],
   "source": [
    "sxx = sg.convolve2d(prev_mat_xx, patch_filter, \"same\")\n",
    "sxy = sg.convolve2d(prev_mat_xy, patch_filter, \"same\")\n",
    "syy = sg.convolve2d(prev_mat_yy, patch_filter, \"same\")"
   ]
  },
  {
   "cell_type": "code",
   "execution_count": 199,
   "metadata": {},
   "outputs": [],
   "source": [
    "for x in range(prev_rect_mat.shape[0]):\n",
    "    for y in range(prev_rect_mat.shape[1]):\n",
    "        sxx[x][y] = prev_mat_xx[x-2:x+2,y-2:y+2].sum()\n",
    "        sxy[x][y] = prev_mat_xy[x-2:x+2,y-2:y+2].sum()\n",
    "        syy[x][y] = prev_mat_yy[x-2:x+2,y-2:y+2].sum()"
   ]
  },
  {
   "cell_type": "code",
   "execution_count": 210,
   "metadata": {},
   "outputs": [
    {
     "data": {
      "text/plain": [
       "<matplotlib.image.AxesImage at 0x183f8650>"
      ]
     },
     "execution_count": 210,
     "metadata": {},
     "output_type": "execute_result"
    },
    {
     "data": {
      "image/png": "[encoded data removed]",
      "text/plain": [
       "<Figure size 432x288 with 1 Axes>"
      ]
     },
     "metadata": {
      "needs_background": "light"
     },
     "output_type": "display_data"
    }
   ],
   "source": [
    "plt.imshow(sxx,cmap='gray',origin='lower')\n",
    "plt.imshow(sxy,cmap='gray')\n",
    "# plt.imshow(syy,cmap='gray',origin='lower')"
   ]
  },
  {
   "cell_type": "markdown",
   "metadata": {},
   "source": [
    "# step 4 + 5"
   ]
  },
  {
   "cell_type": "code",
   "execution_count": 203,
   "metadata": {},
   "outputs": [],
   "source": [
    "R = np.zeros(prev_mat_xx.shape)\n",
    "k = 0.05"
   ]
  },
  {
   "cell_type": "code",
   "execution_count": 431,
   "metadata": {},
   "outputs": [],
   "source": [
    "for x in range(prev_rect_mat.shape[0]):\n",
    "    for y in range(prev_rect_mat.shape[1]):\n",
    "        H = np.array([[sxx[x][y], sxy[x][y]], [sxy[x][y], syy[x][y]]])\n",
    "        R[x][y] = np.linalg.det(H) - k*((np.trace(H))**2)\n",
    "#         R[x][y] = 2*np.linalg.det(H)/(np.trace(H) + 0.01)"
   ]
  },
  {
   "cell_type": "code",
   "execution_count": 432,
   "metadata": {},
   "outputs": [
    {
     "data": {
      "text/plain": [
       "<matplotlib.image.AxesImage at 0x1dcb62f0>"
      ]
     },
     "execution_count": 432,
     "metadata": {},
     "output_type": "execute_result"
    },
    {
     "data": {
      "image/png": "[encoded data removed]",
      "text/plain": [
       "<Figure size 432x288 with 1 Axes>"
      ]
     },
     "metadata": {
      "needs_background": "light"
     },
     "output_type": "display_data"
    }
   ],
   "source": [
    "plt.imshow(R[15:70,18:50],cmap='gray',origin='lower')\n",
    "# plt.imshow(max_R,cmap='gray',origin='lower')"
   ]
  },
  {
   "cell_type": "code",
   "execution_count": 422,
   "metadata": {},
   "outputs": [
    {
     "data": {
      "text/plain": [
       "<matplotlib.image.AxesImage at 0x1e3ef210>"
      ]
     },
     "execution_count": 422,
     "metadata": {},
     "output_type": "execute_result"
    },
    {
     "data": {
      "image/png": "[encoded data removed]",
      "text/plain": [
       "<Figure size 432x288 with 1 Axes>"
      ]
     },
     "metadata": {
      "needs_background": "light"
     },
     "output_type": "display_data"
    }
   ],
   "source": [
    "max_R = maximum_filter(R, 5)\n",
    "plt.imshow(max_R[25:60,18:52],cmap='gray',origin='lower')"
   ]
  },
  {
   "cell_type": "code",
   "execution_count": 423,
   "metadata": {},
   "outputs": [
    {
     "data": {
      "text/plain": [
       "<matplotlib.image.AxesImage at 0x1ead7dd0>"
      ]
     },
     "execution_count": 423,
     "metadata": {},
     "output_type": "execute_result"
    },
    {
     "data": {
      "image/png": "[encoded data removed]",
      "text/plain": [
       "<Figure size 432x288 with 1 Axes>"
      ]
     },
     "metadata": {
      "needs_background": "light"
     },
     "output_type": "display_data"
    }
   ],
   "source": [
    "mask = np.zeros(prev_mat_xx.shape)\n",
    "mask[R == max_R ] = 1\n",
    "plt.imshow(mask,cmap='gray',origin='lower')"
   ]
  },
  {
   "cell_type": "code",
   "execution_count": 413,
   "metadata": {},
   "outputs": [],
   "source": [
    "# threshold = max_R.mean()\n",
    "# max_R[max_R > threshold] = 0\n",
    "# max_R[max_R > threshold*2] = 0"
   ]
  },
  {
   "cell_type": "code",
   "execution_count": 376,
   "metadata": {},
   "outputs": [],
   "source": [
    "# plt.imshow(max_R[25:60,18:52],cmap='gray',origin='lower')\n",
    "# plt.imshow(max_R,cmap='gray',origin='lower')"
   ]
  },
  {
   "cell_type": "code",
   "execution_count": 375,
   "metadata": {},
   "outputs": [],
   "source": [
    "# plt.imshow(prev_rect_mat,cmap='gray',origin='lower')\n",
    "# for x in range(3,prev_rect_mat.shape[0]-3):\n",
    "#     for y in range(3,prev_rect_mat.shape[1]-3):\n",
    "#         if max_R[x][y] >  max_R[x-3:x+3,y-3:y+3].mean():\n",
    "#             rect = patches.Rectangle((x,y),1,1,linewidth=1,edgecolor='r',facecolor='none')\n",
    "#             gca().add_patch(rect)"
   ]
  },
  {
   "cell_type": "code",
   "execution_count": 427,
   "metadata": {},
   "outputs": [
    {
     "data": {
      "image/png": "[encoded data removed]",
      "text/plain": [
       "<Figure size 432x288 with 1 Axes>"
      ]
     },
     "metadata": {
      "needs_background": "light"
     },
     "output_type": "display_data"
    }
   ],
   "source": [
    "plt.imshow(prev_rect_mat,cmap='gray',origin='lower')\n",
    "for x in range(prev_rect_mat.shape[0]):\n",
    "    for y in range(prev_rect_mat.shape[1]):\n",
    "        if mask[x][y]:\n",
    "#             rect = patches.Rectangle((x-1,y-1),1,1,linewidth=1,edgecolor='r',facecolor='none')\n",
    "#             gca().add_patch(rect)\n",
    "            plt.scatter(x,y, c='r', s=1)"
   ]
  }
 ],
 "metadata": {
  "kernelspec": {
   "display_name": "Python 3",
   "language": "python",
   "name": "python3"
  },
  "language_info": {
   "codemirror_mode": {
    "name": "ipython",
    "version": 3
   },
   "file_extension": ".py",
   "mimetype": "text/x-python",
   "name": "python",
   "nbconvert_exporter": "python",
   "pygments_lexer": "ipython3",
   "version": "3.7.0"
  }
 },
 "nbformat": 4,
 "nbformat_minor": 2
}
