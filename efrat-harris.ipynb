{
 "cells": [
  {
   "cell_type": "code",
   "execution_count": 37,
   "metadata": {},
   "outputs": [
    {
     "name": "stdout",
     "output_type": "stream",
     "text": [
      "Populating the interactive namespace from numpy and matplotlib\n"
     ]
    }
   ],
   "source": [
    "from __future__ import print_function, division\n",
    "import pandas as pd\n",
    "from meye import MEImage\n",
    "from scipy import signal as sg\n",
    "from scipy.ndimage.filters import maximum_filter\n",
    "%pylab inline\n",
    "plt.rcParams['image.cmap'] = 'gray'"
   ]
  },
  {
   "cell_type": "code",
   "execution_count": 79,
   "metadata": {},
   "outputs": [
    {
     "data": {
      "text/html": [
       "<div>\n",
       "<style scoped>\n",
       "    .dataframe tbody tr th:only-of-type {\n",
       "        vertical-align: middle;\n",
       "    }\n",
       "\n",
       "    .dataframe tbody tr th {\n",
       "        vertical-align: top;\n",
       "    }\n",
       "\n",
       "    .dataframe thead th {\n",
       "        text-align: right;\n",
       "    }\n",
       "</style>\n",
       "<table border=\"1\" class=\"dataframe\">\n",
       "  <thead>\n",
       "    <tr style=\"text-align: right;\">\n",
       "      <th></th>\n",
       "      <th>Z</th>\n",
       "      <th>currImage</th>\n",
       "      <th>currRect</th>\n",
       "      <th>egoMotion</th>\n",
       "      <th>focal</th>\n",
       "      <th>prevImage</th>\n",
       "      <th>prevRect</th>\n",
       "    </tr>\n",
       "  </thead>\n",
       "  <tbody>\n",
       "    <tr>\n",
       "      <th>0</th>\n",
       "      <td>13.85</td>\n",
       "      <td>16-06-05_17-25-17_Single_0026_frame52.img</td>\n",
       "      <td>[117, 202, 650, 736]</td>\n",
       "      <td>[[0.999999578399109, -0.000895476002401953, -0...</td>\n",
       "      <td>1612</td>\n",
       "      <td>16-06-05_17-25-17_Single_0026_frame51.img</td>\n",
       "      <td>[200, 268, 625, 701]</td>\n",
       "    </tr>\n",
       "    <tr>\n",
       "      <th>1</th>\n",
       "      <td>16.7</td>\n",
       "      <td>16-06-05_17-25-17_Single_0026_frame51.img</td>\n",
       "      <td>[200, 268, 625, 701]</td>\n",
       "      <td>[[0.9999966311214874, -0.0025956984235227477, ...</td>\n",
       "      <td>1612</td>\n",
       "      <td>16-06-05_17-25-17_Single_0026_frame50.img</td>\n",
       "      <td>[257, 317, 615, 677]</td>\n",
       "    </tr>\n",
       "    <tr>\n",
       "      <th>2</th>\n",
       "      <td>None</td>\n",
       "      <td>16-06-05_17-25-17_Single_0026_frame50.img</td>\n",
       "      <td>[257, 317, 615, 677]</td>\n",
       "      <td>[[0.9999998869381259, 0.00046968847719411973, ...</td>\n",
       "      <td>1612</td>\n",
       "      <td>16-06-05_17-25-17_Single_0026_frame49.img</td>\n",
       "      <td>[299, 351, 605, 659]</td>\n",
       "    </tr>\n",
       "  </tbody>\n",
       "</table>\n",
       "</div>"
      ],
      "text/plain": [
       "       Z                                  currImage              currRect  \\\n",
       "0  13.85  16-06-05_17-25-17_Single_0026_frame52.img  [117, 202, 650, 736]   \n",
       "1   16.7  16-06-05_17-25-17_Single_0026_frame51.img  [200, 268, 625, 701]   \n",
       "2   None  16-06-05_17-25-17_Single_0026_frame50.img  [257, 317, 615, 677]   \n",
       "\n",
       "                                           egoMotion  focal  \\\n",
       "0  [[0.999999578399109, -0.000895476002401953, -0...   1612   \n",
       "1  [[0.9999966311214874, -0.0025956984235227477, ...   1612   \n",
       "2  [[0.9999998869381259, 0.00046968847719411973, ...   1612   \n",
       "\n",
       "                                   prevImage              prevRect  \n",
       "0  16-06-05_17-25-17_Single_0026_frame51.img  [200, 268, 625, 701]  \n",
       "1  16-06-05_17-25-17_Single_0026_frame50.img  [257, 317, 615, 677]  \n",
       "2  16-06-05_17-25-17_Single_0026_frame49.img  [299, 351, 605, 659]  "
      ]
     },
     "execution_count": 79,
     "metadata": {},
     "output_type": "execute_result"
    }
   ],
   "source": [
    "df = pd.read_pickle(\"store.pickle\")\n",
    "df.head()"
   ]
  },
  {
   "cell_type": "markdown",
   "metadata": {},
   "source": [
    "# step 1"
   ]
  },
  {
   "cell_type": "code",
   "execution_count": 81,
   "metadata": {},
   "outputs": [],
   "source": [
    "sobel_kernel_x = np.array([[-1, 0, 1], [-2, 0, 2], [-1, 0, 1]]) / 8\n",
    "sobel_kernel_y = np.array([[1, 2, 1], [0, 0, 0], [-1, -2, -1]]) / 8"
   ]
  },
  {
   "cell_type": "code",
   "execution_count": 83,
   "metadata": {},
   "outputs": [],
   "source": [
    "line_zero = df.iloc[0]\n",
    "curr_rect = one_ex.currRect\n",
    "prev_rect = one_ex.prevRect"
   ]
  },
  {
   "cell_type": "code",
   "execution_count": 84,
   "metadata": {},
   "outputs": [],
   "source": [
    "cimage = MEImage.from_file(one_ex.currImage)\n",
    "pimage = MEImage.from_file(one_ex.prevImage)"
   ]
  },
  {
   "cell_type": "code",
   "execution_count": 86,
   "metadata": {},
   "outputs": [],
   "source": [
    "# plt.imshow(pimage.im,cmap='gray',origin='lower')\n",
    "# plt.imshow(cimage.im,cmap='gray')"
   ]
  },
  {
   "cell_type": "code",
   "execution_count": 88,
   "metadata": {},
   "outputs": [],
   "source": [
    "prev_rect_mat = pimage.im[prev_rect[2]:prev_rect[3],prev_rect[0]:prev_rect[1]]\n",
    "curr_rect_mat = cimage.im[curr_rect[2]:curr_rect[3],curr_rect[0]:curr_rect[1]]"
   ]
  },
  {
   "cell_type": "code",
   "execution_count": 89,
   "metadata": {},
   "outputs": [],
   "source": [
    "# plt.imshow(prev_rect_mat,cmap='gray',origin='lower')\n",
    "# plt.imshow(curr_rect_mat,cmap='gray',origin='lower')"
   ]
  },
  {
   "cell_type": "code",
   "execution_count": 90,
   "metadata": {},
   "outputs": [],
   "source": [
    "prev_dx = sg.convolve2d(prev_rect_mat, sobel_kernel_x, \"same\")\n",
    "prev_dy = sg.convolve2d(prev_rect_mat, sobel_kernel_y, \"same\") "
   ]
  },
  {
   "cell_type": "code",
   "execution_count": 91,
   "metadata": {},
   "outputs": [],
   "source": [
    "# plt.imshow(prev_dx,cmap='gray',origin='lower')\n",
    "# plt.imshow(prev_dy,cmap='gray',origin='lower')"
   ]
  },
  {
   "cell_type": "code",
   "execution_count": 94,
   "metadata": {},
   "outputs": [],
   "source": [
    "max_prev_dx = maximum_filter(prev_dx, 5)\n",
    "max_prev_dy = maximum_filter(prev_dy, 5)"
   ]
  },
  {
   "cell_type": "code",
   "execution_count": 96,
   "metadata": {},
   "outputs": [],
   "source": [
    "# plt.imshow(max_prev_dx,cmap='gray',origin='lower')\n",
    "# plt.imshow(max_prev_dy,cmap='gray',origin='lower')"
   ]
  },
  {
   "cell_type": "markdown",
   "metadata": {},
   "source": [
    "# step 2"
   ]
  },
  {
   "cell_type": "code",
   "execution_count": null,
   "metadata": {},
   "outputs": [],
   "source": []
  }
 ],
 "metadata": {
  "kernelspec": {
   "display_name": "Python 3",
   "language": "python",
   "name": "python3"
  },
  "language_info": {
   "codemirror_mode": {
    "name": "ipython",
    "version": 3
   },
   "file_extension": ".py",
   "mimetype": "text/x-python",
   "name": "python",
   "nbconvert_exporter": "python",
   "pygments_lexer": "ipython3",
   "version": "3.7.0"
  }
 },
 "nbformat": 4,
 "nbformat_minor": 2
}
