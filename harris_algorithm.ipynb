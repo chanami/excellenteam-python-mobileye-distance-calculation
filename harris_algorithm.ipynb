{
 "cells": [
  {
   "cell_type": "code",
   "execution_count": 228,
   "metadata": {},
   "outputs": [
    {
     "name": "stdout",
     "output_type": "stream",
     "text": [
      "Populating the interactive namespace from numpy and matplotlib\n"
     ]
    }
   ],
   "source": [
    "from __future__ import print_function, division\n",
    "import pandas as pd\n",
    "from meye import MEImage\n",
    "from scipy.ndimage.filters import maximum_filter\n",
    "%pylab inline\n",
    "plt.rcParams['image.cmap'] = 'gray'"
   ]
  },
  {
   "cell_type": "code",
   "execution_count": 3,
   "metadata": {},
   "outputs": [
    {
     "data": {
      "text/html": [
       "<div>\n",
       "<style scoped>\n",
       "    .dataframe tbody tr th:only-of-type {\n",
       "        vertical-align: middle;\n",
       "    }\n",
       "\n",
       "    .dataframe tbody tr th {\n",
       "        vertical-align: top;\n",
       "    }\n",
       "\n",
       "    .dataframe thead th {\n",
       "        text-align: right;\n",
       "    }\n",
       "</style>\n",
       "<table border=\"1\" class=\"dataframe\">\n",
       "  <thead>\n",
       "    <tr style=\"text-align: right;\">\n",
       "      <th></th>\n",
       "      <th>Z</th>\n",
       "      <th>currImage</th>\n",
       "      <th>currRect</th>\n",
       "      <th>egoMotion</th>\n",
       "      <th>focal</th>\n",
       "      <th>prevImage</th>\n",
       "      <th>prevRect</th>\n",
       "    </tr>\n",
       "  </thead>\n",
       "  <tbody>\n",
       "    <tr>\n",
       "      <th>0</th>\n",
       "      <td>13.85</td>\n",
       "      <td>16-06-05_17-25-17_Single_0026_frame52.img</td>\n",
       "      <td>[117, 202, 650, 736]</td>\n",
       "      <td>[[0.999999578399109, -0.000895476002401953, -0...</td>\n",
       "      <td>1612</td>\n",
       "      <td>16-06-05_17-25-17_Single_0026_frame51.img</td>\n",
       "      <td>[200, 268, 625, 701]</td>\n",
       "    </tr>\n",
       "    <tr>\n",
       "      <th>1</th>\n",
       "      <td>16.7</td>\n",
       "      <td>16-06-05_17-25-17_Single_0026_frame51.img</td>\n",
       "      <td>[200, 268, 625, 701]</td>\n",
       "      <td>[[0.9999966311214874, -0.0025956984235227477, ...</td>\n",
       "      <td>1612</td>\n",
       "      <td>16-06-05_17-25-17_Single_0026_frame50.img</td>\n",
       "      <td>[257, 317, 615, 677]</td>\n",
       "    </tr>\n",
       "    <tr>\n",
       "      <th>2</th>\n",
       "      <td>None</td>\n",
       "      <td>16-06-05_17-25-17_Single_0026_frame50.img</td>\n",
       "      <td>[257, 317, 615, 677]</td>\n",
       "      <td>[[0.9999998869381259, 0.00046968847719411973, ...</td>\n",
       "      <td>1612</td>\n",
       "      <td>16-06-05_17-25-17_Single_0026_frame49.img</td>\n",
       "      <td>[299, 351, 605, 659]</td>\n",
       "    </tr>\n",
       "  </tbody>\n",
       "</table>\n",
       "</div>"
      ],
      "text/plain": [
       "       Z                                  currImage              currRect  \\\n",
       "0  13.85  16-06-05_17-25-17_Single_0026_frame52.img  [117, 202, 650, 736]   \n",
       "1   16.7  16-06-05_17-25-17_Single_0026_frame51.img  [200, 268, 625, 701]   \n",
       "2   None  16-06-05_17-25-17_Single_0026_frame50.img  [257, 317, 615, 677]   \n",
       "\n",
       "                                           egoMotion  focal  \\\n",
       "0  [[0.999999578399109, -0.000895476002401953, -0...   1612   \n",
       "1  [[0.9999966311214874, -0.0025956984235227477, ...   1612   \n",
       "2  [[0.9999998869381259, 0.00046968847719411973, ...   1612   \n",
       "\n",
       "                                   prevImage              prevRect  \n",
       "0  16-06-05_17-25-17_Single_0026_frame51.img  [200, 268, 625, 701]  \n",
       "1  16-06-05_17-25-17_Single_0026_frame50.img  [257, 317, 615, 677]  \n",
       "2  16-06-05_17-25-17_Single_0026_frame49.img  [299, 351, 605, 659]  "
      ]
     },
     "execution_count": 3,
     "metadata": {},
     "output_type": "execute_result"
    }
   ],
   "source": [
    "# df = pd.HDFStore('store.h5')['df']\n",
    "df = pd.read_pickle(\"store.pickle\")\n",
    "df.head()"
   ]
  },
  {
   "cell_type": "code",
   "execution_count": 194,
   "metadata": {},
   "outputs": [
    {
     "data": {
      "text/plain": [
       "array([[-0.125,  0.   ,  0.125],\n",
       "       [-0.25 ,  0.   ,  0.25 ],\n",
       "       [-0.125,  0.   ,  0.125]])"
      ]
     },
     "execution_count": 194,
     "metadata": {},
     "output_type": "execute_result"
    }
   ],
   "source": [
    "sobel_kernel_x = np.array([[-1, 0, 1], [-2, 0, 2], [-1, 0, 1]]) / 8\n",
    "sobel_kernel_x"
   ]
  },
  {
   "cell_type": "code",
   "execution_count": 195,
   "metadata": {},
   "outputs": [
    {
     "data": {
      "text/plain": [
       "array([[ 0.125,  0.25 ,  0.125],\n",
       "       [ 0.   ,  0.   ,  0.   ],\n",
       "       [-0.125, -0.25 , -0.125]])"
      ]
     },
     "execution_count": 195,
     "metadata": {},
     "output_type": "execute_result"
    }
   ],
   "source": [
    "sobel_kernel_y = np.array([[1, 2, 1], [0, 0, 0], [-1, -2, -1]]) / 8\n",
    "sobel_kernel_y"
   ]
  },
  {
   "cell_type": "code",
   "execution_count": 196,
   "metadata": {},
   "outputs": [],
   "source": [
    "from scipy import signal as sg"
   ]
  },
  {
   "cell_type": "code",
   "execution_count": 197,
   "metadata": {},
   "outputs": [],
   "source": [
    "imageC = MEImage.from_file('16-06-05_17-25-17_Single_0026_frame52.img')\n",
    "imageP = MEImage.from_file('16-06-05_17-25-17_Single_0026_frame51.img')"
   ]
  },
  {
   "cell_type": "markdown",
   "metadata": {},
   "source": [
    "## step 1"
   ]
  },
  {
   "cell_type": "code",
   "execution_count": 198,
   "metadata": {},
   "outputs": [
    {
     "data": {
      "text/plain": [
       "<matplotlib.image.AxesImage at 0x241ee035b38>"
      ]
     },
     "execution_count": 198,
     "metadata": {},
     "output_type": "execute_result"
    },
    {
     "data": {
      "image/png": "[encoded data removed]",
      "text/plain": [
       "<matplotlib.figure.Figure at 0x241f54ae080>"
      ]
     },
     "metadata": {
      "needs_background": "light"
     },
     "output_type": "display_data"
    }
   ],
   "source": [
    "import matplotlib.patches as patches\n",
    "rect = df.iloc[0].currRect\n",
    "rect1 = df.iloc[0].prevRect\n",
    "\n",
    "currImage_rect=imageC.im[rect[2]:rect[3],rect[0]:rect[1]]\n",
    "prevImage_rect=imageP.im[rect1[2]:rect1[3],rect1[0]:rect1[1]]\n",
    "\n",
    "plt.imshow(prevImage_rect,cmap='gray',origin='lower')"
   ]
  },
  {
   "cell_type": "code",
   "execution_count": 199,
   "metadata": {},
   "outputs": [],
   "source": [
    "Ix_c = sg.convolve2d(currImage_rect, sobel_kernel_x, \"same\") \n",
    "Iy_c = sg.convolve2d(currImage_rect, sobel_kernel_y, \"same\") \n"
   ]
  },
  {
   "cell_type": "code",
   "execution_count": 200,
   "metadata": {},
   "outputs": [
    {
     "name": "stdout",
     "output_type": "stream",
     "text": [
      "(86, 85)\n"
     ]
    }
   ],
   "source": [
    "print(Ix_c.shape)"
   ]
  },
  {
   "cell_type": "code",
   "execution_count": 201,
   "metadata": {},
   "outputs": [
    {
     "data": {
      "text/plain": [
       "<matplotlib.image.AxesImage at 0x241ee08e668>"
      ]
     },
     "execution_count": 201,
     "metadata": {},
     "output_type": "execute_result"
    },
    {
     "data": {
      "image/png": "[encoded data removed]",
      "text/plain": [
       "<matplotlib.figure.Figure at 0x241f54e6780>"
      ]
     },
     "metadata": {
      "needs_background": "light"
     },
     "output_type": "display_data"
    }
   ],
   "source": [
    "plt.imshow(Ix_c,cmap='gray',origin='lower')"
   ]
  },
  {
   "cell_type": "code",
   "execution_count": 202,
   "metadata": {},
   "outputs": [
    {
     "data": {
      "text/plain": [
       "<matplotlib.image.AxesImage at 0x241ee0eba20>"
      ]
     },
     "execution_count": 202,
     "metadata": {},
     "output_type": "execute_result"
    },
    {
     "data": {
      "image/png": "[encoded data removed]",
      "text/plain": [
       "<matplotlib.figure.Figure at 0x241ee074cf8>"
      ]
     },
     "metadata": {
      "needs_background": "light"
     },
     "output_type": "display_data"
    }
   ],
   "source": [
    "plt.imshow(Iy_c,cmap='gray',origin='lower')"
   ]
  },
  {
   "cell_type": "code",
   "execution_count": 203,
   "metadata": {},
   "outputs": [],
   "source": [
    "Ix_p = sg.convolve2d(prevImage_rect, sobel_kernel_x, \"same\") \n",
    "Iy_p = sg.convolve2d(prevImage_rect, sobel_kernel_y, \"same\") "
   ]
  },
  {
   "cell_type": "code",
   "execution_count": 204,
   "metadata": {},
   "outputs": [
    {
     "data": {
      "text/plain": [
       "<matplotlib.image.AxesImage at 0x241ee14ae48>"
      ]
     },
     "execution_count": 204,
     "metadata": {},
     "output_type": "execute_result"
    },
    {
     "data": {
      "image/png": "[encoded data removed]",
      "text/plain": [
       "<matplotlib.figure.Figure at 0x241ee0ceba8>"
      ]
     },
     "metadata": {
      "needs_background": "light"
     },
     "output_type": "display_data"
    }
   ],
   "source": [
    "plt.imshow(Ix_p,cmap='gray',origin='lower')"
   ]
  },
  {
   "cell_type": "code",
   "execution_count": 205,
   "metadata": {},
   "outputs": [
    {
     "data": {
      "text/plain": [
       "<matplotlib.image.AxesImage at 0x241ee1aa908>"
      ]
     },
     "execution_count": 205,
     "metadata": {},
     "output_type": "execute_result"
    },
    {
     "data": {
      "image/png": "[encoded data removed]",
      "text/plain": [
       "<matplotlib.figure.Figure at 0x241ee1662e8>"
      ]
     },
     "metadata": {
      "needs_background": "light"
     },
     "output_type": "display_data"
    }
   ],
   "source": [
    "plt.imshow(Iy_p,cmap='gray',origin='lower')"
   ]
  },
  {
   "cell_type": "markdown",
   "metadata": {},
   "source": [
    "## step 2"
   ]
  },
  {
   "cell_type": "code",
   "execution_count": 206,
   "metadata": {},
   "outputs": [],
   "source": [
    "Ix2_c = Ix_c ** 2\n",
    "Iy2_c = Iy_c ** 2\n",
    "Ixy_c = Ix_c * Iy_c"
   ]
  },
  {
   "cell_type": "code",
   "execution_count": 207,
   "metadata": {},
   "outputs": [
    {
     "name": "stdout",
     "output_type": "stream",
     "text": [
      "(86, 85)\n"
     ]
    }
   ],
   "source": [
    "print(Ix2_c.shape)"
   ]
  },
  {
   "cell_type": "code",
   "execution_count": 208,
   "metadata": {},
   "outputs": [
    {
     "data": {
      "text/plain": [
       "<matplotlib.image.AxesImage at 0x241ee20a3c8>"
      ]
     },
     "execution_count": 208,
     "metadata": {},
     "output_type": "execute_result"
    },
    {
     "data": {
      "image/png": "[encoded data removed]",
      "text/plain": [
       "<matplotlib.figure.Figure at 0x241ee1804e0>"
      ]
     },
     "metadata": {
      "needs_background": "light"
     },
     "output_type": "display_data"
    }
   ],
   "source": [
    "plt.imshow(Iy2_c,cmap='gray',origin='lower')"
   ]
  },
  {
   "cell_type": "code",
   "execution_count": 209,
   "metadata": {},
   "outputs": [
    {
     "name": "stderr",
     "output_type": "stream",
     "text": [
      "c:\\users\\hodaya\\appdata\\local\\programs\\python\\python36\\lib\\site-packages\\ipykernel_launcher.py:3: RuntimeWarning: divide by zero encountered in power\n",
      "  This is separate from the ipykernel package so we can avoid doing imports until\n",
      "c:\\users\\hodaya\\appdata\\local\\programs\\python\\python36\\lib\\site-packages\\ipykernel_launcher.py:3: RuntimeWarning: invalid value encountered in power\n",
      "  This is separate from the ipykernel package so we can avoid doing imports until\n"
     ]
    }
   ],
   "source": [
    "Ix2_p = Ix_p ** 2\n",
    "Iy2_p = Iy_p ** 2\n",
    "Ixy_p = Ix_p ** Iy_p"
   ]
  },
  {
   "cell_type": "code",
   "execution_count": 210,
   "metadata": {},
   "outputs": [
    {
     "data": {
      "text/plain": [
       "<matplotlib.image.AxesImage at 0x241ee2678d0>"
      ]
     },
     "execution_count": 210,
     "metadata": {},
     "output_type": "execute_result"
    },
    {
     "data": {
      "image/png": "[encoded data removed]",
      "text/plain": [
       "<matplotlib.figure.Figure at 0x241ee1e40b8>"
      ]
     },
     "metadata": {
      "needs_background": "light"
     },
     "output_type": "display_data"
    }
   ],
   "source": [
    "plt.imshow(Iy2_p,cmap='gray',origin='lower')"
   ]
  },
  {
   "cell_type": "markdown",
   "metadata": {},
   "source": [
    "## step 3"
   ]
  },
  {
   "cell_type": "code",
   "execution_count": 212,
   "metadata": {},
   "outputs": [],
   "source": [
    "patch = np.ones((7,7), dtype=int)"
   ]
  },
  {
   "cell_type": "code",
   "execution_count": 213,
   "metadata": {},
   "outputs": [],
   "source": [
    "SIx2_c = sg.convolve2d(Ix2_c, patch, \"same\") \n",
    "SIy2_c = sg.convolve2d(Iy2_c, patch, \"same\") \n",
    "SIxy_c = sg.convolve2d(Ixy_c, patch, \"same\") "
   ]
  },
  {
   "cell_type": "code",
   "execution_count": 214,
   "metadata": {},
   "outputs": [
    {
     "name": "stdout",
     "output_type": "stream",
     "text": [
      "(86, 85)\n"
     ]
    }
   ],
   "source": [
    "print(SIx2_c.shape)"
   ]
  },
  {
   "cell_type": "code",
   "execution_count": 215,
   "metadata": {},
   "outputs": [],
   "source": [
    "SIx2_p = sg.convolve2d(Ix2_p, patch, \"same\") \n",
    "SIy2_p = sg.convolve2d(Iy2_p, patch, \"same\") \n",
    "SIxy_p = sg.convolve2d(Ixy_p, patch, \"same\") "
   ]
  },
  {
   "cell_type": "code",
   "execution_count": 216,
   "metadata": {},
   "outputs": [
    {
     "data": {
      "text/plain": [
       "<matplotlib.image.AxesImage at 0x241ee2c9400>"
      ]
     },
     "execution_count": 216,
     "metadata": {},
     "output_type": "execute_result"
    },
    {
     "data": {
      "image/png": "[encoded data removed]",
      "text/plain": [
       "<matplotlib.figure.Figure at 0x241ee289da0>"
      ]
     },
     "metadata": {
      "needs_background": "light"
     },
     "output_type": "display_data"
    }
   ],
   "source": [
    "plt.imshow(SIx2_c,cmap='gray',origin='lower')"
   ]
  },
  {
   "cell_type": "markdown",
   "metadata": {},
   "source": [
    "## step 4"
   ]
  },
  {
   "cell_type": "code",
   "execution_count": 217,
   "metadata": {},
   "outputs": [
    {
     "name": "stdout",
     "output_type": "stream",
     "text": [
      "(86, 85)\n"
     ]
    }
   ],
   "source": [
    "r_mat_c = np.ones((currImage_rect.shape[0],currImage_rect.shape[1]), dtype=int)\n",
    "r_mat_c\n",
    "print(r_mat_c.shape)"
   ]
  },
  {
   "cell_type": "code",
   "execution_count": 218,
   "metadata": {},
   "outputs": [
    {
     "data": {
      "text/plain": [
       "array([[1, 1, 1, ..., 1, 1, 1],\n",
       "       [1, 1, 1, ..., 1, 1, 1],\n",
       "       [1, 1, 1, ..., 1, 1, 1],\n",
       "       ...,\n",
       "       [1, 1, 1, ..., 1, 1, 1],\n",
       "       [1, 1, 1, ..., 1, 1, 1],\n",
       "       [1, 1, 1, ..., 1, 1, 1]])"
      ]
     },
     "execution_count": 218,
     "metadata": {},
     "output_type": "execute_result"
    }
   ],
   "source": [
    "r_mat_p = np.ones((prevImage_rect.shape[0],prevImage_rect.shape[1]), dtype=int)\n",
    "r_mat_p"
   ]
  },
  {
   "cell_type": "code",
   "execution_count": 219,
   "metadata": {},
   "outputs": [],
   "source": [
    "k = 0.04;"
   ]
  },
  {
   "cell_type": "code",
   "execution_count": 231,
   "metadata": {},
   "outputs": [
    {
     "name": "stdout",
     "output_type": "stream",
     "text": [
      "(86, 85)\n"
     ]
    }
   ],
   "source": [
    " for x in range (currImage_rect.shape[0]):\n",
    " \n",
    "     for y in range (currImage_rect.shape[1]):\n",
    "                        \n",
    "            matrix = np.array([[SIx2_c[x][y], SIxy_c[x][y]], [SIxy_c[x][y], SIy2_c[x][y]]])\n",
    "            r_mat_c[x][y] = np.linalg.det(matrix) - k * np.trace(matrix)**2\n",
    "print(r_mat_c.shape)"
   ]
  },
  {
   "cell_type": "code",
   "execution_count": 232,
   "metadata": {},
   "outputs": [
    {
     "data": {
      "text/plain": [
       "<matplotlib.image.AxesImage at 0x241ee459898>"
      ]
     },
     "execution_count": 232,
     "metadata": {},
     "output_type": "execute_result"
    },
    {
     "data": {
      "image/png": "[encoded data removed]",
      "text/plain": [
       "<matplotlib.figure.Figure at 0x241ee335080>"
      ]
     },
     "metadata": {
      "needs_background": "light"
     },
     "output_type": "display_data"
    }
   ],
   "source": [
    "plt.imshow(r_mat_c[15:70, 18:50],cmap='gray',origin='lower')"
   ]
  },
  {
   "cell_type": "code",
   "execution_count": 233,
   "metadata": {},
   "outputs": [],
   "source": [
    "threshold = maximum_filter(r_mat_c, 5)\n"
   ]
  },
  {
   "cell_type": "code",
   "execution_count": 234,
   "metadata": {},
   "outputs": [],
   "source": [
    "row = currImage_rect.shape[0]\n",
    "col = currImage_rect.shape[1]"
   ]
  },
  {
   "cell_type": "code",
   "execution_count": 236,
   "metadata": {},
   "outputs": [
    {
     "data": {
      "text/plain": [
       "<matplotlib.image.AxesImage at 0x241ee99b048>"
      ]
     },
     "execution_count": 236,
     "metadata": {},
     "output_type": "execute_result"
    },
    {
     "data": {
      "image/png": "[encoded data removed]",
      "text/plain": [
       "<matplotlib.figure.Figure at 0x241ee43ca58>"
      ]
     },
     "metadata": {
      "needs_background": "light"
     },
     "output_type": "display_data"
    }
   ],
   "source": [
    "mask = np.zeros((currImage_rect.shape[0],currImage_rect.shape[1]), dtype=int)\n",
    "\n",
    "mask[r_mat_c == threshold] = 1\n",
    "\n",
    "plt.imshow(mask, cmap='gray', origin='lower')"
   ]
  },
  {
   "cell_type": "code",
   "execution_count": 238,
   "metadata": {},
   "outputs": [
    {
     "data": {
      "image/png": "[encoded data removed]",
      "text/plain": [
       "<matplotlib.figure.Figure at 0x241eea42550>"
      ]
     },
     "metadata": {
      "needs_background": "light"
     },
     "output_type": "display_data"
    }
   ],
   "source": [
    "\n",
    "plt.imshow(currImage_rect,cmap='gray',origin='lower')\n",
    "for x in range(currImage_rect.shape[0]):\n",
    "    for y in range(currImage_rect.shape[1]):\n",
    "        if mask[x][y]:\n",
    "            rect = patches.Rectangle((x-1,y-1),1,1,linewidth=1,edgecolor='b',facecolor='none')\n",
    "            gca().add_patch(rect)"
   ]
  }
 ],
 "metadata": {
  "kernelspec": {
   "display_name": "Python 3",
   "language": "python",
   "name": "python3"
  },
  "language_info": {
   "codemirror_mode": {
    "name": "ipython",
    "version": 3
   },
   "file_extension": ".py",
   "mimetype": "text/x-python",
   "name": "python",
   "nbconvert_exporter": "python",
   "pygments_lexer": "ipython3",
   "version": "3.6.5"
  }
 },
 "nbformat": 4,
 "nbformat_minor": 2
}
