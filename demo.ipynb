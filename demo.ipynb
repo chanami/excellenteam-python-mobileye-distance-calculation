{
 "cells": [
  {
   "cell_type": "markdown",
   "metadata": {},
   "source": [
    "# Introduction to TSR distance estimation"
   ]
  },
  {
   "cell_type": "code",
   "execution_count": 1,
   "metadata": {
    "collapsed": false
   },
   "outputs": [
    {
     "name": "stdout",
     "output_type": "stream",
     "text": [
      "Populating the interactive namespace from numpy and matplotlib\n"
     ]
    }
   ],
   "source": [
    "from __future__ import print_function, division\n",
    "import pandas as pd\n",
    "from meye import MEImage\n",
    "%pylab inline\n",
    "plt.rcParams['image.cmap'] = 'gray'"
   ]
  },
  {
   "cell_type": "markdown",
   "metadata": {},
   "source": [
    "## Reading the database\n"
   ]
  },
  {
   "cell_type": "code",
   "execution_count": 2,
   "metadata": {
    "collapsed": false
   },
   "outputs": [
    {
     "data": {
      "text/html": [
       "<div>\n",
       "<table border=\"1\" class=\"dataframe\">\n",
       "  <thead>\n",
       "    <tr style=\"text-align: right;\">\n",
       "      <th></th>\n",
       "      <th>Z</th>\n",
       "      <th>currImage</th>\n",
       "      <th>currRect</th>\n",
       "      <th>egoMotion</th>\n",
       "      <th>focal</th>\n",
       "      <th>prevImage</th>\n",
       "      <th>prevRect</th>\n",
       "    </tr>\n",
       "  </thead>\n",
       "  <tbody>\n",
       "    <tr>\n",
       "      <th>0</th>\n",
       "      <td>13.85</td>\n",
       "      <td>16-06-05_17-25-17_Single_0026_frame52.img</td>\n",
       "      <td>[117, 202, 650, 736]</td>\n",
       "      <td>[[0.999999578399, -0.000895476002402, -0.00020...</td>\n",
       "      <td>1612</td>\n",
       "      <td>16-06-05_17-25-17_Single_0026_frame51.img</td>\n",
       "      <td>[200, 268, 625, 701]</td>\n",
       "    </tr>\n",
       "    <tr>\n",
       "      <th>1</th>\n",
       "      <td>16.7</td>\n",
       "      <td>16-06-05_17-25-17_Single_0026_frame51.img</td>\n",
       "      <td>[200, 268, 625, 701]</td>\n",
       "      <td>[[0.999996631121, -0.00259569842352, -9.765754...</td>\n",
       "      <td>1612</td>\n",
       "      <td>16-06-05_17-25-17_Single_0026_frame50.img</td>\n",
       "      <td>[257, 317, 615, 677]</td>\n",
       "    </tr>\n",
       "    <tr>\n",
       "      <th>2</th>\n",
       "      <td>None</td>\n",
       "      <td>16-06-05_17-25-17_Single_0026_frame50.img</td>\n",
       "      <td>[257, 317, 615, 677]</td>\n",
       "      <td>[[0.999999886938, 0.000469688477194, 7.4272939...</td>\n",
       "      <td>1612</td>\n",
       "      <td>16-06-05_17-25-17_Single_0026_frame49.img</td>\n",
       "      <td>[299, 351, 605, 659]</td>\n",
       "    </tr>\n",
       "  </tbody>\n",
       "</table>\n",
       "</div>"
      ],
      "text/plain": [
       "       Z                                  currImage              currRect  \\\n",
       "0  13.85  16-06-05_17-25-17_Single_0026_frame52.img  [117, 202, 650, 736]   \n",
       "1   16.7  16-06-05_17-25-17_Single_0026_frame51.img  [200, 268, 625, 701]   \n",
       "2   None  16-06-05_17-25-17_Single_0026_frame50.img  [257, 317, 615, 677]   \n",
       "\n",
       "                                           egoMotion  focal  \\\n",
       "0  [[0.999999578399, -0.000895476002402, -0.00020...   1612   \n",
       "1  [[0.999996631121, -0.00259569842352, -9.765754...   1612   \n",
       "2  [[0.999999886938, 0.000469688477194, 7.4272939...   1612   \n",
       "\n",
       "                                   prevImage              prevRect  \n",
       "0  16-06-05_17-25-17_Single_0026_frame51.img  [200, 268, 625, 701]  \n",
       "1  16-06-05_17-25-17_Single_0026_frame50.img  [257, 317, 615, 677]  \n",
       "2  16-06-05_17-25-17_Single_0026_frame49.img  [299, 351, 605, 659]  "
      ]
     },
     "execution_count": 2,
     "metadata": {},
     "output_type": "execute_result"
    }
   ],
   "source": [
    "# df = pd.HDFStore('store.h5')['df']\n",
    "df = pd.read_pickle(\"store.pickle\")\n",
    "df.head()"
   ]
  },
  {
   "cell_type": "markdown",
   "metadata": {},
   "source": [
    "### Image principal point "
   ]
  },
  {
   "cell_type": "code",
   "execution_count": 3,
   "metadata": {
    "collapsed": false
   },
   "outputs": [
    {
     "name": "stdout",
     "output_type": "stream",
     "text": [
      "(960, 1280)\n",
      "[612 508]\n",
      "[-612  668 -404  451]\n"
     ]
    }
   ],
   "source": [
    "image = MEImage.from_file('16-06-05_17-25-17_Single_0026_frame52.img')\n",
    "print(image.im.shape)\n",
    "print(image.origin)\n",
    "print(image.rect)"
   ]
  },
  {
   "cell_type": "markdown",
   "metadata": {},
   "source": [
    "### Focal length "
   ]
  },
  {
   "cell_type": "code",
   "execution_count": 4,
   "metadata": {
    "collapsed": false
   },
   "outputs": [
    {
     "data": {
      "text/plain": [
       "0    1612\n",
       "1    1612\n",
       "2    1612\n",
       "Name: focal, dtype: int64"
      ]
     },
     "execution_count": 4,
     "metadata": {},
     "output_type": "execute_result"
    }
   ],
   "source": [
    "df['focal']"
   ]
  },
  {
   "cell_type": "markdown",
   "metadata": {},
   "source": [
    "### Prev and current image rect"
   ]
  },
  {
   "cell_type": "code",
   "execution_count": 5,
   "metadata": {
    "collapsed": false
   },
   "outputs": [
    {
     "data": {
      "text/html": [
       "<div>\n",
       "<table border=\"1\" class=\"dataframe\">\n",
       "  <thead>\n",
       "    <tr style=\"text-align: right;\">\n",
       "      <th></th>\n",
       "      <th>prevRect</th>\n",
       "      <th>currRect</th>\n",
       "    </tr>\n",
       "  </thead>\n",
       "  <tbody>\n",
       "    <tr>\n",
       "      <th>0</th>\n",
       "      <td>[200, 268, 625, 701]</td>\n",
       "      <td>[117, 202, 650, 736]</td>\n",
       "    </tr>\n",
       "    <tr>\n",
       "      <th>1</th>\n",
       "      <td>[257, 317, 615, 677]</td>\n",
       "      <td>[200, 268, 625, 701]</td>\n",
       "    </tr>\n",
       "    <tr>\n",
       "      <th>2</th>\n",
       "      <td>[299, 351, 605, 659]</td>\n",
       "      <td>[257, 317, 615, 677]</td>\n",
       "    </tr>\n",
       "  </tbody>\n",
       "</table>\n",
       "</div>"
      ],
      "text/plain": [
       "               prevRect              currRect\n",
       "0  [200, 268, 625, 701]  [117, 202, 650, 736]\n",
       "1  [257, 317, 615, 677]  [200, 268, 625, 701]\n",
       "2  [299, 351, 605, 659]  [257, 317, 615, 677]"
      ]
     },
     "execution_count": 5,
     "metadata": {},
     "output_type": "execute_result"
    }
   ],
   "source": [
    "df[['prevRect','currRect']]"
   ]
  },
  {
   "cell_type": "markdown",
   "metadata": {},
   "source": [
    "### Ego motion matrix"
   ]
  },
  {
   "cell_type": "code",
   "execution_count": 6,
   "metadata": {
    "collapsed": false,
    "scrolled": true
   },
   "outputs": [
    {
     "name": "stdout",
     "output_type": "stream",
     "text": [
      "(4, 4)\n",
      "[[  9.99999578e-01  -8.95476002e-04  -2.03283874e-04   5.62752837e-02]\n",
      " [  8.95523797e-04   9.99999571e-01   2.35143793e-04  -5.88343605e-02]\n",
      " [  2.03073221e-04  -2.35325740e-04   9.99999952e-01  -2.89097313e+00]\n",
      " [  0.00000000e+00   0.00000000e+00   0.00000000e+00   1.00000000e+00]]\n",
      "\n",
      "(4, 4)\n",
      "[[  9.99996631e-01  -2.59569842e-03  -9.76575490e-06   5.34051704e-02]\n",
      " [  2.59569118e-03   9.99996400e-01  -6.80046032e-04  -5.12130713e-02]\n",
      " [  1.15309142e-05   6.80018392e-04   9.99999769e-01  -2.88863401e+00]\n",
      " [  0.00000000e+00   0.00000000e+00   0.00000000e+00   1.00000000e+00]]\n",
      "\n",
      "(4, 4)\n",
      "[[  9.99999887e-01   4.69688477e-04   7.42729400e-05   5.69971963e-02]\n",
      " [ -4.69526179e-04   9.99997535e-01  -2.17027886e-03  -4.87108894e-02]\n",
      " [ -7.52921118e-05   2.17024375e-03   9.99997642e-01  -2.88552559e+00]\n",
      " [  0.00000000e+00   0.00000000e+00   0.00000000e+00   1.00000000e+00]]\n",
      "\n"
     ]
    }
   ],
   "source": [
    "for em in df.egoMotion:\n",
    "    print(em.shape)\n",
    "    print(em)\n",
    "    print()"
   ]
  },
  {
   "cell_type": "markdown",
   "metadata": {},
   "source": [
    "### Display image"
   ]
  },
  {
   "cell_type": "code",
   "execution_count": 7,
   "metadata": {
    "collapsed": false
   },
   "outputs": [
    {
     "name": "stdout",
     "output_type": "stream",
     "text": [
      "[117, 202, 650, 736]\n"
     ]
    },
    {
     "data": {
      "text/plain": [
       "<matplotlib.patches.Rectangle at 0x7f02c0430a50>"
      ]
     },
     "execution_count": 7,
     "metadata": {},
     "output_type": "execute_result"
    },
    {
     "data": {
      "image/png": "[encoded data removed]",
      "text/plain": [
       "<matplotlib.figure.Figure at 0x7f02c0430a10>"
      ]
     },
     "metadata": {},
     "output_type": "display_data"
    }
   ],
   "source": [
    "import matplotlib.patches as patches\n",
    "\n",
    "# flip image vertically\n",
    "plt.imshow(image.im,cmap='gray',origin='lower')\n",
    "# plt.plot(*image.origin[::-1], marker='+', markersize=10, color=\"red\")\n",
    "rect = df.iloc[0].currRect\n",
    "print(rect)\n",
    "rect = patches.Rectangle(rect[::2],rect[1]-rect[0],rect[3]-rect[2],linewidth=1,edgecolor='r',facecolor='none')\n",
    "gca().add_patch(rect)\n"
   ]
  },
  {
   "cell_type": "markdown",
   "metadata": {},
   "source": [
    "# Convolution using scipy"
   ]
  },
  {
   "cell_type": "code",
   "execution_count": 8,
   "metadata": {
    "collapsed": false
   },
   "outputs": [
    {
     "data": {
      "text/plain": [
       "array([[ 0,  1,  2,  3,  4,  5,  6,  7],\n",
       "       [ 1,  2,  3,  4,  5,  6,  7,  8],\n",
       "       [ 2,  3,  4,  5,  6,  7,  8,  9],\n",
       "       [ 3,  4,  5,  6,  7,  8,  9, 10],\n",
       "       [ 4,  5,  6,  7,  8,  9, 10, 11],\n",
       "       [ 5,  6,  7,  8,  9, 10, 11, 12],\n",
       "       [ 6,  7,  8,  9, 10, 11, 12, 13],\n",
       "       [ 7,  8,  9, 10, 11, 12, 13, 14]])"
      ]
     },
     "execution_count": 8,
     "metadata": {},
     "output_type": "execute_result"
    }
   ],
   "source": [
    "# create artifical image with constant positive slope \n",
    "my_image = np.arange(8) + np.arange(8)[:,np.newaxis] \n",
    "my_image"
   ]
  },
  {
   "cell_type": "code",
   "execution_count": 9,
   "metadata": {
    "collapsed": false
   },
   "outputs": [
    {
     "data": {
      "text/plain": [
       "array([[-0.125,  0.   ,  0.125],\n",
       "       [-0.25 ,  0.   ,  0.25 ],\n",
       "       [-0.125,  0.   ,  0.125]])"
      ]
     },
     "execution_count": 9,
     "metadata": {},
     "output_type": "execute_result"
    }
   ],
   "source": [
    "sobel_kernel = np.array([[-1, 0, 1], [-2, 0, 2], [-1, 0, 1]]) / 8\n",
    "sobel_kernel"
   ]
  },
  {
   "cell_type": "code",
   "execution_count": 10,
   "metadata": {
    "collapsed": true
   },
   "outputs": [],
   "source": [
    "from scipy import signal as sg"
   ]
  },
  {
   "cell_type": "code",
   "execution_count": 11,
   "metadata": {
    "collapsed": false
   },
   "outputs": [],
   "source": [
    "# help(sg.convolve2d)"
   ]
  },
  {
   "cell_type": "code",
   "execution_count": 12,
   "metadata": {
    "collapsed": false
   },
   "outputs": [
    {
     "data": {
      "text/plain": [
       "array([[ 0,  1,  2,  3,  4,  5,  6,  7],\n",
       "       [ 1,  2,  3,  4,  5,  6,  7,  8],\n",
       "       [ 2,  3,  4,  5,  6,  7,  8,  9],\n",
       "       [ 3,  4,  5,  6,  7,  8,  9, 10],\n",
       "       [ 4,  5,  6,  7,  8,  9, 10, 11],\n",
       "       [ 5,  6,  7,  8,  9, 10, 11, 12],\n",
       "       [ 6,  7,  8,  9, 10, 11, 12, 13],\n",
       "       [ 7,  8,  9, 10, 11, 12, 13, 14]])"
      ]
     },
     "execution_count": 12,
     "metadata": {},
     "output_type": "execute_result"
    }
   ],
   "source": [
    "my_image"
   ]
  },
  {
   "cell_type": "code",
   "execution_count": 13,
   "metadata": {
    "collapsed": false
   },
   "outputs": [
    {
     "name": "stdout",
     "output_type": "stream",
     "text": [
      "(8, 8)\n"
     ]
    },
    {
     "data": {
      "text/plain": [
       "array([[-0.5  , -0.75 , -0.75 , -0.75 , -0.75 , -0.75 , -0.75 ,  2.375],\n",
       "       [-1.   , -1.   , -1.   , -1.   , -1.   , -1.   , -1.   ,  3.5  ],\n",
       "       [-1.5  , -1.   , -1.   , -1.   , -1.   , -1.   , -1.   ,  4.   ],\n",
       "       [-2.   , -1.   , -1.   , -1.   , -1.   , -1.   , -1.   ,  4.5  ],\n",
       "       [-2.5  , -1.   , -1.   , -1.   , -1.   , -1.   , -1.   ,  5.   ],\n",
       "       [-3.   , -1.   , -1.   , -1.   , -1.   , -1.   , -1.   ,  5.5  ],\n",
       "       [-3.5  , -1.   , -1.   , -1.   , -1.   , -1.   , -1.   ,  6.   ],\n",
       "       [-2.875, -0.75 , -0.75 , -0.75 , -0.75 , -0.75 , -0.75 ,  4.75 ]])"
      ]
     },
     "execution_count": 13,
     "metadata": {},
     "output_type": "execute_result"
    }
   ],
   "source": [
    "pdx = sg.convolve2d(my_image, sobel_kernel, \"same\") \n",
    "# pdx = sg.convolve2d(my_image, sobel_kernel, \"valid\") \n",
    "print(pdx.shape)\n",
    "pdx"
   ]
  },
  {
   "cell_type": "markdown",
   "metadata": {},
   "source": [
    "## Maximum filter  "
   ]
  },
  {
   "cell_type": "code",
   "execution_count": 14,
   "metadata": {
    "collapsed": true
   },
   "outputs": [],
   "source": [
    "from scipy.ndimage.filters import maximum_filter"
   ]
  },
  {
   "cell_type": "code",
   "execution_count": 15,
   "metadata": {
    "collapsed": false
   },
   "outputs": [],
   "source": [
    "# help(maximum_filter)"
   ]
  },
  {
   "cell_type": "code",
   "execution_count": 16,
   "metadata": {
    "collapsed": false
   },
   "outputs": [
    {
     "data": {
      "text/plain": [
       "array([[ 0,  1,  2,  3,  4,  5,  6,  7],\n",
       "       [ 1,  2,  3,  4,  5,  6,  7,  8],\n",
       "       [ 2,  3,  4,  5,  6,  7,  8,  9],\n",
       "       [ 3,  4,  5,  6,  7,  8,  9, 10],\n",
       "       [ 4,  5,  6,  7,  8,  9, 10, 11],\n",
       "       [ 5,  6,  7,  8,  9, 10, 11, 12],\n",
       "       [ 6,  7,  8,  9, 10, 11, 12, 13],\n",
       "       [ 7,  8,  9, 10, 11, 12, 13, 14]])"
      ]
     },
     "execution_count": 16,
     "metadata": {},
     "output_type": "execute_result"
    }
   ],
   "source": [
    "my_image"
   ]
  },
  {
   "cell_type": "code",
   "execution_count": 17,
   "metadata": {
    "collapsed": false
   },
   "outputs": [
    {
     "data": {
      "text/plain": [
       "array([[ 2,  3,  4,  5,  6,  7,  8,  8],\n",
       "       [ 3,  4,  5,  6,  7,  8,  9,  9],\n",
       "       [ 4,  5,  6,  7,  8,  9, 10, 10],\n",
       "       [ 5,  6,  7,  8,  9, 10, 11, 11],\n",
       "       [ 6,  7,  8,  9, 10, 11, 12, 12],\n",
       "       [ 7,  8,  9, 10, 11, 12, 13, 13],\n",
       "       [ 8,  9, 10, 11, 12, 13, 14, 14],\n",
       "       [ 8,  9, 10, 11, 12, 13, 14, 14]])"
      ]
     },
     "execution_count": 17,
     "metadata": {},
     "output_type": "execute_result"
    }
   ],
   "source": [
    "maximum_filter(my_image, 3)"
   ]
  },
  {
   "cell_type": "code",
   "execution_count": 18,
   "metadata": {
    "collapsed": false
   },
   "outputs": [
    {
     "data": {
      "text/plain": [
       "array([[ 4,  5,  6,  7,  8,  9,  9,  9],\n",
       "       [ 5,  6,  7,  8,  9, 10, 10, 10],\n",
       "       [ 6,  7,  8,  9, 10, 11, 11, 11],\n",
       "       [ 7,  8,  9, 10, 11, 12, 12, 12],\n",
       "       [ 8,  9, 10, 11, 12, 13, 13, 13],\n",
       "       [ 9, 10, 11, 12, 13, 14, 14, 14],\n",
       "       [ 9, 10, 11, 12, 13, 14, 14, 14],\n",
       "       [ 9, 10, 11, 12, 13, 14, 14, 14]])"
      ]
     },
     "execution_count": 18,
     "metadata": {},
     "output_type": "execute_result"
    }
   ],
   "source": [
    "maximum_filter(my_image, 5)"
   ]
  },
  {
   "cell_type": "markdown",
   "metadata": {},
   "source": [
    "## ndimage - find local max pixels"
   ]
  },
  {
   "cell_type": "code",
   "execution_count": 19,
   "metadata": {
    "collapsed": true
   },
   "outputs": [],
   "source": [
    "from scipy import ndimage"
   ]
  },
  {
   "cell_type": "markdown",
   "metadata": {},
   "source": [
    "## Final results"
   ]
  },
  {
   "cell_type": "code",
   "execution_count": 20,
   "metadata": {
    "collapsed": false
   },
   "outputs": [
    {
     "data": {
      "text/plain": [
       "0    13.85\n",
       "1     16.7\n",
       "2     None\n",
       "Name: Z, dtype: object"
      ]
     },
     "execution_count": 20,
     "metadata": {},
     "output_type": "execute_result"
    }
   ],
   "source": [
    "df['Z']"
   ]
  },
  {
   "cell_type": "code",
   "execution_count": null,
   "metadata": {
    "collapsed": false
   },
   "outputs": [],
   "source": [
    "#df.index=np.arange(len(df))\n",
    "#df\n",
    "#df.to_json(\"store.json\")\n",
    "#df.to_pickle(\"store.pickle\")"
   ]
  }
 ],
 "metadata": {
  "kernelspec": {
   "display_name": "Python 2",
   "language": "python",
   "name": "python2"
  },
  "language_info": {
   "codemirror_mode": {
    "name": "ipython",
    "version": 2
   },
   "file_extension": ".py",
   "mimetype": "text/x-python",
   "name": "python",
   "nbconvert_exporter": "python",
   "pygments_lexer": "ipython2",
   "version": "2.7.15"
  }
 },
 "nbformat": 4,
 "nbformat_minor": 2
}
