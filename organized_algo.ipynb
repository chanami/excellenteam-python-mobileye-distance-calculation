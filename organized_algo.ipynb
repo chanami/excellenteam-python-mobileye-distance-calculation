{
 "cells": [
  {
   "cell_type": "code",
   "execution_count": 1,
   "metadata": {},
   "outputs": [],
   "source": [
    "from __future__ import print_function, division\n",
    "import pandas as pd\n",
    "from meye import MEImage\n",
    "from scipy import signal as sg\n",
    "from scipy.ndimage.filters import maximum_filter\n",
    "import matplotlib.patches as patches"
   ]
  },
  {
   "cell_type": "code",
   "execution_count": 4,
   "metadata": {},
   "outputs": [
    {
     "name": "stdout",
     "output_type": "stream",
     "text": [
      "Populating the interactive namespace from numpy and matplotlib\n"
     ]
    }
   ],
   "source": [
    "%pylab inline\n",
    "plt.rcParams['image.cmap'] = 'gray'"
   ]
  },
  {
   "cell_type": "code",
   "execution_count": 79,
   "metadata": {},
   "outputs": [],
   "source": [
    "patch_filter_size = 9\n",
    "k = 0.05\n",
    "max_filter_size = 9\n",
    "DEBUG = False\n",
    "sobel_kernel_x = np.array([[-1, 0, 1], [-2, 0, 2], [-1, 0, 1]]) / 8\n",
    "sobel_kernel_y = np.array([[1, 2, 1], [0, 0, 0], [-1, -2, -1]]) / 8"
   ]
  },
  {
   "cell_type": "code",
   "execution_count": 86,
   "metadata": {},
   "outputs": [],
   "source": [
    "def harris_corners(rect,image,DEBUG = False,debug_level = 0):\n",
    "#init values\n",
    "    meImg = MEImage.from_file(image)\n",
    "    rect_mat = meImg.im[rect[2]:rect[3],rect[0]:rect[1]]\n",
    "    if DEBUG and debug_level == 1:\n",
    "        print(rect_mat.shape)\n",
    "        plt.figure()\n",
    "        print(\"image rect\")\n",
    "        plt.imshow(rect_mat,cmap='gray',origin='lower')\n",
    "        \n",
    "        \n",
    "#get derivatives\n",
    "    rect_dx = sg.convolve2d(rect_mat, sobel_kernel_x, \"same\")\n",
    "    rect_dy = sg.convolve2d(rect_mat, sobel_kernel_y, \"same\") \n",
    "    \n",
    "    mat_xx = rect_dx * rect_dx\n",
    "    mat_yy = rect_dy * rect_dy\n",
    "    mat_xy = rect_dx * rect_dy\n",
    "    \n",
    "    \n",
    "#mean values\n",
    "    patch_filter = np.ones((patch_filter_size,patch_filter_size)) / (patch_filter_size**2)\n",
    "    if DEBUG and debug_level == 1:\n",
    "        print(patch_filter.shape)\n",
    "    \n",
    "    sxx = sg.convolve2d(mat_xx, patch_filter, \"same\")\n",
    "    sxy = sg.convolve2d(mat_xy, patch_filter, \"same\")\n",
    "    syy = sg.convolve2d(mat_yy, patch_filter, \"same\")\n",
    "    if DEBUG and debug_level == 1:\n",
    "        print(syy.shape)\n",
    "\n",
    "    if DEBUG and debug_level == 1:\n",
    "        print(\"sxx\")\n",
    "        plt.figure()\n",
    "        plt.imshow(sxx,cmap='gray',origin='lower')\n",
    "        print(\"sxy\")\n",
    "        plt.figure()\n",
    "        plt.imshow(sxy,cmap='gray',origin='lower')\n",
    "        print(\"syy\")\n",
    "        plt.figure()\n",
    "        plt.imshow(syy,cmap='gray',origin='lower')\n",
    "    \n",
    "    \n",
    "#harris detector\n",
    "    R = np.zeros(rect_mat.shape)\n",
    "    \n",
    "    for x in range(rect_mat.shape[0]):\n",
    "        for y in range(rect_mat.shape[1]):\n",
    "            H = np.array([[sxx[x][y], sxy[x][y]], [sxy[x][y], syy[x][y]]])\n",
    "            R[x,y] = np.linalg.det(H) - k*((np.trace(H))**2)\n",
    "#             R[x][y] = 2*np.linalg.det(H)/(np.trace(H) + 0.01)\n",
    "   \n",
    "    if DEBUG and debug_level == 1:\n",
    "        print(\"R map\")\n",
    "        plt.figure()\n",
    "        plt.imshow(R,cmap='gray',origin='lower')\n",
    "        plt.figure()\n",
    "        plt.imshow(R[15:70,18:50],cmap='gray',origin='lower')\n",
    "\n",
    "        \n",
    "#threshholds maximum etc\n",
    "    max_R = maximum_filter(R, max_filter_size)\n",
    "    if DEBUG and debug_level == 1:\n",
    "        print(\"R max map\")\n",
    "#         threshold = abs(max_R)\n",
    "        plt.figure()\n",
    "        plt.imshow(max_R,cmap='gray',origin='lower')\n",
    "\n",
    "\n",
    "    #create mask\n",
    "    mask = np.zeros(rect_mat.shape)\n",
    "    # mask[(R - max_R)**2 > 1 ] = 1\n",
    "    mask[(R == max_R)] = 1\n",
    "#     mask[abs(R - max_R) < 2 and abs(R - max_R) > 1 2 ] = 1\n",
    "    if DEBUG:\n",
    "        print(\"mask\")\n",
    "        plt.figure()\n",
    "        plt.imshow(mask,cmap='gray',origin='lower')\n",
    "        print(mask.sum())\n",
    "    \n",
    "    if DEBUG:\n",
    "        plt.figure()\n",
    "        plt.imshow(rect_mat,cmap='gray',origin='lower')\n",
    "        for x in range(rect_mat.shape[0]):\n",
    "            for y in range(rect_mat.shape[1]):\n",
    "                if mask[x][y]:\n",
    "#                     plt.scatter(y,x, c='r', s=(R[x-2][y-2]/20))\n",
    "                    plt.scatter(y,x, c='r', s=2 )\n",
    "        \n",
    "    if DEBUG and debug_level == 1:\n",
    "        plt.figure()\n",
    "        for x in range(rect_mat.shape[0]):\n",
    "            for y in range(rect_mat.shape[1]):\n",
    "                if mask[x][y]:\n",
    "                    plt.scatter(y,x, c='r', s=2)\n",
    "\n",
    "    return mask"
   ]
  },
  {
   "cell_type": "code",
   "execution_count": 87,
   "metadata": {},
   "outputs": [
    {
     "name": "stdout",
     "output_type": "stream",
     "text": [
      "mask\n",
      "30.0\n"
     ]
    },
    {
     "data": {
      "image/png": "[encoded data removed]",
      "text/plain": [
       "<Figure size 432x288 with 1 Axes>"
      ]
     },
     "metadata": {
      "needs_background": "light"
     },
     "output_type": "display_data"
    },
    {
     "data": {
      "image/png": "[encoded data removed]",
      "text/plain": [
       "<Figure size 432x288 with 1 Axes>"
      ]
     },
     "metadata": {
      "needs_background": "light"
     },
     "output_type": "display_data"
    }
   ],
   "source": [
    "df = pd.read_pickle(\"store.pickle\")\n",
    "line = df.iloc[0]\n",
    "rect = line.currRect\n",
    "img = line.currImage\n",
    "\n",
    "points = harris_corners(rect,img,True)"
   ]
  },
  {
   "cell_type": "code",
   "execution_count": 88,
   "metadata": {},
   "outputs": [
    {
     "name": "stdout",
     "output_type": "stream",
     "text": [
      "mask\n",
      "24.0\n"
     ]
    },
    {
     "data": {
      "image/png": "[encoded data removed]",
      "text/plain": [
       "<Figure size 432x288 with 1 Axes>"
      ]
     },
     "metadata": {
      "needs_background": "light"
     },
     "output_type": "display_data"
    },
    {
     "data": {
      "image/png": "[encoded data removed]",
      "text/plain": [
       "<Figure size 432x288 with 1 Axes>"
      ]
     },
     "metadata": {
      "needs_background": "light"
     },
     "output_type": "display_data"
    }
   ],
   "source": [
    "df = pd.read_pickle(\"store.pickle\")\n",
    "line = df.iloc[0]\n",
    "rect = line.prevRect\n",
    "img = line.prevImage\n",
    "\n",
    "points = harris_corners(rect,img,True)"
   ]
  },
  {
   "cell_type": "code",
   "execution_count": null,
   "metadata": {},
   "outputs": [],
   "source": []
  },
  {
   "cell_type": "code",
   "execution_count": null,
   "metadata": {},
   "outputs": [],
   "source": []
  }
 ],
 "metadata": {
  "kernelspec": {
   "display_name": "Python 3",
   "language": "python",
   "name": "python3"
  },
  "language_info": {
   "codemirror_mode": {
    "name": "ipython",
    "version": 3
   },
   "file_extension": ".py",
   "mimetype": "text/x-python",
   "name": "python",
   "nbconvert_exporter": "python",
   "pygments_lexer": "ipython3",
   "version": "3.7.0"
  }
 },
 "nbformat": 4,
 "nbformat_minor": 2
}
